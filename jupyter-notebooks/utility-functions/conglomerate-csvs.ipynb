{
 "cells": [
  {
   "cell_type": "code",
   "execution_count": 3,
   "metadata": {},
   "outputs": [],
   "source": [
    "import pandas as pd\n",
    "import os"
   ]
  },
  {
   "cell_type": "code",
   "execution_count": 44,
   "metadata": {},
   "outputs": [],
   "source": [
    "def combine_csv_pieces():\n",
    "    \"\"\"\n",
    "    Combines csvs of files that we're broken up by Parse_Dataset.py\n",
    "    \n",
    "    {'nothing2': ['nothing2_8.csv', 'nothing2_1.csv'], \n",
    "    'ohp5': ['ohp5_8.csv', 'ohp5_9.csv', 'ohp5_4.csv', \n",
    "    'ohp5_5.csv', 'ohp5_7.csv', 'ohp5_6.csv', 'ohp5_2.csv'}\n",
    "    \"\"\"\n",
    "    location = \"/Users/jamesperalta/Desktop/classes/CPSC-502/ResearchProposal/WorkoutRecognitionThesis/video_dataset/new-train/csvs/pieces/\"\n",
    "    all_csvs = list(filter(lambda x: \".csv\" in x, os.listdir(location)))\n",
    "    \n",
    "    csv_dict = {}\n",
    "    for csv in all_csvs:\n",
    "        file_name = csv.split(\"_\")[0]\n",
    "        csv_val = csv_dict.get(file_name, [])\n",
    "        csv_val.append(csv)\n",
    "        csv_dict[file_name] = csv_val\n",
    "\n",
    "    for key in csv_dict.keys():\n",
    "        csvs_to_join = csv_dict[key]\n",
    "        df_list = []\n",
    "        for csv in csvs_to_join:\n",
    "            df = pd.read_csv(location + csv)\n",
    "            df_list.append(df)\n",
    "        combined_df = pd.concat(df_list)\n",
    "        combined_df.to_csv(\"{}.csv\".format(key), index=False)"
   ]
  },
  {
   "cell_type": "code",
   "execution_count": 1,
   "metadata": {},
   "outputs": [],
   "source": [
    "def build_dataset_csv(set_name):\n",
    "    location = \"/Users/jamesperalta/Desktop/classes/CPSC-502/ResearchProposal/WorkoutRecognitionThesis/video_dataset/new-train/csvs/{}/\".format(set_name)\n",
    "    all_csvs = list(filter(lambda x: \".csv\" in x, os.listdir(location)))\n",
    "    \n",
    "    df_list = []\n",
    "    for csv in all_csvs:\n",
    "        df = pd.read_csv(location + csv)\n",
    "        df_list.append(df)\n",
    "    combined_df = pd.concat(df_list)\n",
    "    combined_df.to_csv(\"{}.csv\".format(set_name), index=False)"
   ]
  },
  {
   "cell_type": "code",
   "execution_count": 6,
   "metadata": {},
   "outputs": [],
   "source": [
    "build_dataset_csv(\"test\")"
   ]
  }
 ],
 "metadata": {
  "kernelspec": {
   "display_name": "Python 3",
   "language": "python",
   "name": "python3"
  },
  "language_info": {
   "codemirror_mode": {
    "name": "ipython",
    "version": 3
   },
   "file_extension": ".py",
   "mimetype": "text/x-python",
   "name": "python",
   "nbconvert_exporter": "python",
   "pygments_lexer": "ipython3",
   "version": "3.6.8"
  }
 },
 "nbformat": 4,
 "nbformat_minor": 2
}
