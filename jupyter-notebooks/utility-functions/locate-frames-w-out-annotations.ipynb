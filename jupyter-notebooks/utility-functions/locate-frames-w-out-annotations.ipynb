{
 "cells": [
  {
   "cell_type": "markdown",
   "metadata": {},
   "source": [
    "# Parses a folder full of annotation json files and generates statistics on all of the videos that have labels. A list of the videos labeled, all existing labels, and if any frames are not labelled"
   ]
  },
  {
   "cell_type": "markdown",
   "metadata": {},
   "source": [
    "## Imports"
   ]
  },
  {
   "cell_type": "code",
   "execution_count": 15,
   "metadata": {},
   "outputs": [],
   "source": [
    "import os\n",
    "import json\n",
    "import pandas as pd"
   ]
  },
  {
   "cell_type": "code",
   "execution_count": 8,
   "metadata": {},
   "outputs": [],
   "source": [
    "# Accessing Annotation file constants\n",
    "ANNOTATIONS = \"subject_blocks\"\n",
    "ANNOTATION_TYPE = \"name\"\n",
    "START = \"enter_frame\"\n",
    "EXIT = \"exit_frame\"\n",
    "LABEL_ARR = \"events\"\n",
    "LABEL = \"data\"\n",
    "METADATA = \"video_metadata\"\n",
    "DURATION = \"duration\"\n",
    "\n",
    "# Creating annotation arr constants\n",
    "ANNOTATION_KEY = \"annotation_type\"\n",
    "START_FRAME_KEY = \"start_frame\"\n",
    "END_FRAME_KEY = \"end_frame\"\n",
    "LABEL_KEY = \"label\""
   ]
  },
  {
   "cell_type": "markdown",
   "metadata": {},
   "source": [
    "## Analyze annotation files"
   ]
  },
  {
   "cell_type": "code",
   "execution_count": 72,
   "metadata": {
    "scrolled": true
   },
   "outputs": [
    {
     "name": "stdout",
     "output_type": "stream",
     "text": [
      "Analyzing: ohp4\n",
      "Analyzing: ohp8\n",
      "Analyzing: ohp2\n",
      "Analyzing: ohp0\n",
      "Analyzing: ohp6\n",
      "Analyzing: squat6\n",
      "Analyzing: squat0\n",
      "Analyzing: squat3\n",
      "Analyzing: nothing1\n",
      "Analyzing: squat7\n",
      "Analyzing: ohp7\n",
      "Analyzing: ohp3\n",
      "Analyzing: squat2\n",
      "Analyzing: ohp5\n",
      "Analyzing: squat8\n",
      "Analyzing: squat1\n",
      "Analyzing: nothing0\n",
      "Analyzing: nothing2\n",
      "Analyzing: ohp1\n",
      "Analyzing: squat4\n",
      "Analyzing: squat5\n"
     ]
    }
   ],
   "source": [
    "annotation_loc = \"/Users/jamesperalta/Desktop/classes/CPSC-502/ResearchProposal/WorkoutRecognitionThesis/video_dataset/new-train/labels\"\n",
    "annotation_files = os.listdir(annotation_loc)\n",
    "\n",
    "frames_arr = []\n",
    "for file in annotation_files:\n",
    "    if \"json\" not in file:\n",
    "        continue\n",
    "    \n",
    "    file_name = file.split(\"_\")[0]\n",
    "    print(\"Analyzing: \" + file_name)\n",
    "    with open(\"{}/{}\".format(annotation_loc, file)) as json_file:\n",
    "        data = json.load(json_file)\n",
    "        # Retrieving the annotations\n",
    "        annotations = data[ANNOTATIONS]\n",
    "        annotation_arr = []\n",
    "        for annotation in annotations:\n",
    "            annotation_type = annotation[ANNOTATION_TYPE]\n",
    "            start_frame = annotation[START]\n",
    "            end_frame = annotation[EXIT]\n",
    "            label = annotation[LABEL_ARR][0][LABEL]\n",
    "            annotation_arr.append({ANNOTATION_KEY: annotation_type,\n",
    "                                   START_FRAME_KEY: start_frame,\n",
    "                                   END_FRAME_KEY: end_frame,\n",
    "                                   LABEL_KEY: label})\n",
    "\n",
    "        duration = data[METADATA][DURATION]\n",
    "        for frame in range(0, duration):\n",
    "            labels = []\n",
    "            # Check which labels this frame has\n",
    "            for annotation in annotation_arr:\n",
    "                start_frame = annotation[START_FRAME_KEY]\n",
    "                end_frame = annotation[END_FRAME_KEY]\n",
    "                if frame >= start_frame and frame < end_frame:\n",
    "                    labels.append(annotation[LABEL_KEY])\n",
    "\n",
    "            frames_arr.append({\n",
    "                \"name\": file_name,\n",
    "                \"frame\": frame,\n",
    "                \"label\": \"-\".join(labels)\n",
    "            })\n",
    "\n",
    "frames_df = pd.DataFrame(frames_arr)\n"
   ]
  },
  {
   "cell_type": "code",
   "execution_count": 73,
   "metadata": {},
   "outputs": [
    {
     "data": {
      "text/html": [
       "<div>\n",
       "<style scoped>\n",
       "    .dataframe tbody tr th:only-of-type {\n",
       "        vertical-align: middle;\n",
       "    }\n",
       "\n",
       "    .dataframe tbody tr th {\n",
       "        vertical-align: top;\n",
       "    }\n",
       "\n",
       "    .dataframe thead th {\n",
       "        text-align: right;\n",
       "    }\n",
       "</style>\n",
       "<table border=\"1\" class=\"dataframe\">\n",
       "  <thead>\n",
       "    <tr style=\"text-align: right;\">\n",
       "      <th></th>\n",
       "      <th>name</th>\n",
       "      <th>frame</th>\n",
       "      <th>label</th>\n",
       "    </tr>\n",
       "  </thead>\n",
       "  <tbody>\n",
       "    <tr>\n",
       "      <th>0</th>\n",
       "      <td>ohp4</td>\n",
       "      <td>0</td>\n",
       "      <td>ohp</td>\n",
       "    </tr>\n",
       "    <tr>\n",
       "      <th>1</th>\n",
       "      <td>ohp4</td>\n",
       "      <td>1</td>\n",
       "      <td>ohp</td>\n",
       "    </tr>\n",
       "    <tr>\n",
       "      <th>2</th>\n",
       "      <td>ohp4</td>\n",
       "      <td>2</td>\n",
       "      <td>ohp</td>\n",
       "    </tr>\n",
       "    <tr>\n",
       "      <th>3</th>\n",
       "      <td>ohp4</td>\n",
       "      <td>3</td>\n",
       "      <td>ohp</td>\n",
       "    </tr>\n",
       "    <tr>\n",
       "      <th>4</th>\n",
       "      <td>ohp4</td>\n",
       "      <td>4</td>\n",
       "      <td>ohp</td>\n",
       "    </tr>\n",
       "    <tr>\n",
       "      <th>...</th>\n",
       "      <td>...</td>\n",
       "      <td>...</td>\n",
       "      <td>...</td>\n",
       "    </tr>\n",
       "    <tr>\n",
       "      <th>10396</th>\n",
       "      <td>squat5</td>\n",
       "      <td>288</td>\n",
       "      <td>nothing</td>\n",
       "    </tr>\n",
       "    <tr>\n",
       "      <th>10397</th>\n",
       "      <td>squat5</td>\n",
       "      <td>289</td>\n",
       "      <td>nothing</td>\n",
       "    </tr>\n",
       "    <tr>\n",
       "      <th>10398</th>\n",
       "      <td>squat5</td>\n",
       "      <td>290</td>\n",
       "      <td>nothing</td>\n",
       "    </tr>\n",
       "    <tr>\n",
       "      <th>10399</th>\n",
       "      <td>squat5</td>\n",
       "      <td>291</td>\n",
       "      <td>nothing</td>\n",
       "    </tr>\n",
       "    <tr>\n",
       "      <th>10400</th>\n",
       "      <td>squat5</td>\n",
       "      <td>292</td>\n",
       "      <td>nothing</td>\n",
       "    </tr>\n",
       "  </tbody>\n",
       "</table>\n",
       "<p>10401 rows × 3 columns</p>\n",
       "</div>"
      ],
      "text/plain": [
       "         name  frame    label\n",
       "0        ohp4      0      ohp\n",
       "1        ohp4      1      ohp\n",
       "2        ohp4      2      ohp\n",
       "3        ohp4      3      ohp\n",
       "4        ohp4      4      ohp\n",
       "...       ...    ...      ...\n",
       "10396  squat5    288  nothing\n",
       "10397  squat5    289  nothing\n",
       "10398  squat5    290  nothing\n",
       "10399  squat5    291  nothing\n",
       "10400  squat5    292  nothing\n",
       "\n",
       "[10401 rows x 3 columns]"
      ]
     },
     "execution_count": 73,
     "metadata": {},
     "output_type": "execute_result"
    }
   ],
   "source": [
    "frames_df"
   ]
  },
  {
   "cell_type": "code",
   "execution_count": 75,
   "metadata": {},
   "outputs": [
    {
     "name": "stdout",
     "output_type": "stream",
     "text": [
      "Unique values in name\n",
      "['ohp4' 'ohp8' 'ohp2' 'ohp0' 'ohp6' 'squat6' 'squat0' 'squat3' 'nothing1'\n",
      " 'squat7' 'ohp7' 'ohp3' 'squat2' 'ohp5' 'squat8' 'squat1' 'nothing0'\n",
      " 'nothing2' 'ohp1' 'squat4' 'squat5']\n",
      "Unique values in label\n",
      "['ohp' 'nothing' 'squat']\n"
     ]
    }
   ],
   "source": [
    "for col in frames_df.columns: \n",
    "    if col not in [\"name\", \"label\"]:\n",
    "        continue\n",
    "#     unique = set(str(frames_df[[col]].values.tolist()))\n",
    "    print(\"Unique values in \" + col)\n",
    "    print(frames_df[[col]][col].unique())"
   ]
  }
 ],
 "metadata": {
  "kernelspec": {
   "display_name": "Python 3",
   "language": "python",
   "name": "python3"
  },
  "language_info": {
   "codemirror_mode": {
    "name": "ipython",
    "version": 3
   },
   "file_extension": ".py",
   "mimetype": "text/x-python",
   "name": "python",
   "nbconvert_exporter": "python",
   "pygments_lexer": "ipython3",
   "version": "3.6.8"
  }
 },
 "nbformat": 4,
 "nbformat_minor": 2
}
