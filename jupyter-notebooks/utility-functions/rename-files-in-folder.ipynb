{
 "cells": [
  {
   "cell_type": "code",
   "execution_count": 1,
   "metadata": {},
   "outputs": [],
   "source": [
    "import os"
   ]
  },
  {
   "cell_type": "code",
   "execution_count": 2,
   "metadata": {},
   "outputs": [],
   "source": [
    "os.chdir(\"FaceView\")"
   ]
  },
  {
   "cell_type": "code",
   "execution_count": 4,
   "metadata": {},
   "outputs": [
    {
     "name": "stdout",
     "output_type": "stream",
     "text": [
      "0 video5.MOV\n",
      "1 video4.MOV\n",
      "2 IMG_8685.TRIM.MOV\n",
      "3 video6.MOV\n",
      "4 video7.MOV\n",
      "5 video3.MOV\n",
      "6 video2.MOV\n",
      "7 IMG_8982.TRIM.MOV\n",
      "8 IMG_8983.TRIM.MOV\n",
      "9 IMG_8988.TRIM.MOV\n",
      "10 IMG_8989.TRIM.MOV\n",
      "11 IMG_8988.1.TRIM.MOV\n",
      "12 video1.MOV\n",
      "13 IMG_8985.TRIM.MOV\n",
      "14 video17.MOV\n",
      "15 IMG_8687.TRIM(1).MOV\n",
      "16 IMG_8689.TRIM.MOV\n",
      "17 IMG_8688.TRIM.MOV\n",
      "18 video16.MOV\n",
      "19 video28.MOV\n",
      "20 video29.MOV\n",
      "21 video15.MOV\n",
      "22 IMG_8667.TRIM.MOV\n",
      "23 video18.MOV\n",
      "24 video30.MOV\n",
      "25 IMG_8689.TRIM(1).MOV\n",
      "26 video31.MOV\n",
      "27 video19.MOV\n",
      "28 video27.MOV\n",
      "29 video26.MOV\n",
      "30 IMG_8989.1.TRIM.MOV\n",
      "31 IMG_8687.TRIM.MOV\n",
      "32 IMG_8686.TRIM.MOV\n",
      "33 IMG_8685.TRIM(1).MOV\n",
      "34 video22.MOV\n",
      "35 video21.MOV\n",
      "36 IMG_8991.TRIM.MOV\n",
      "37 video8.MOV\n",
      "38 IMG_8986.TRIM.MOV\n",
      "39 IMG_8987.TRIM.MOV\n"
     ]
    }
   ],
   "source": [
    "for index, file in enumerate(os.listdir()):\n",
    "    os.rename(file, \"squat{}.MOV\".format(index))\n",
    "    print(index, file)"
   ]
  }
 ],
 "metadata": {
  "kernelspec": {
   "display_name": "Python 3",
   "language": "python",
   "name": "python3"
  },
  "language_info": {
   "codemirror_mode": {
    "name": "ipython",
    "version": 3
   },
   "file_extension": ".py",
   "mimetype": "text/x-python",
   "name": "python",
   "nbconvert_exporter": "python",
   "pygments_lexer": "ipython3",
   "version": "3.6.8"
  }
 },
 "nbformat": 4,
 "nbformat_minor": 2
}
