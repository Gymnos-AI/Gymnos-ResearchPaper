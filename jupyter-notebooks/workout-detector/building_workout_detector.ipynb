{
 "cells": [
  {
   "cell_type": "markdown",
   "metadata": {},
   "source": [
    "# Workout Detector\n",
    "### The models built here will use keypoints extracted from PoseNet as features and the type of exercise as the label"
   ]
  },
  {
   "cell_type": "markdown",
   "metadata": {},
   "source": [
    "## Imports"
   ]
  },
  {
   "cell_type": "code",
   "execution_count": 1,
   "metadata": {},
   "outputs": [],
   "source": [
    "import os\n",
    "import pandas as pd\n",
    "import re\n",
    "import numpy as np\n",
    "from sklearn import preprocessing\n",
    "from sklearn.model_selection import train_test_split\n",
    "from sklearn.svm import LinearSVC\n",
    "from sklearn.linear_model import LogisticRegression\n",
    "from sklearn.preprocessing import StandardScaler\n",
    "from sklearn.utils import shuffle\n",
    "from joblib import dump, load\n",
    "from ast import literal_eval\n",
    "from sklearn.preprocessing import OneHotEncoder\n",
    "import matplotlib.pyplot as plt\n",
    "from sklearn.metrics import accuracy_score\n",
    "%matplotlib inline"
   ]
  },
  {
   "cell_type": "markdown",
   "metadata": {},
   "source": [
    "# Preprocess and load data"
   ]
  },
  {
   "cell_type": "markdown",
   "metadata": {},
   "source": [
    "## Read in the training set"
   ]
  },
  {
   "cell_type": "code",
   "execution_count": 2,
   "metadata": {},
   "outputs": [],
   "source": [
    "os.listdir()\n",
    "\n",
    "train_dataset = pd.read_csv(\"./train.csv\")\n",
    "train_dataset = train_dataset.dropna(axis=0, how ='any')\n",
    "train_dataset.reset_index(inplace = True, drop=True)\n",
    "\n",
    "val_dataset = pd.read_csv(\"./val.csv\")\n",
    "val_dataset = val_dataset.dropna(axis=0, how ='any')\n",
    "val_dataset.reset_index(inplace = True, drop=True)\n",
    "\n",
    "test_dataset = pd.read_csv(\"./test.csv\")\n",
    "test_dataset = test_dataset.dropna(axis=0, how ='any')\n",
    "test_dataset.reset_index(inplace = True, drop=True)"
   ]
  },
  {
   "cell_type": "code",
   "execution_count": 3,
   "metadata": {},
   "outputs": [
    {
     "data": {
      "text/html": [
       "<div>\n",
       "<style scoped>\n",
       "    .dataframe tbody tr th:only-of-type {\n",
       "        vertical-align: middle;\n",
       "    }\n",
       "\n",
       "    .dataframe tbody tr th {\n",
       "        vertical-align: top;\n",
       "    }\n",
       "\n",
       "    .dataframe thead th {\n",
       "        text-align: right;\n",
       "    }\n",
       "</style>\n",
       "<table border=\"1\" class=\"dataframe\">\n",
       "  <thead>\n",
       "    <tr style=\"text-align: right;\">\n",
       "      <th></th>\n",
       "      <th>keypoints</th>\n",
       "      <th>label</th>\n",
       "    </tr>\n",
       "  </thead>\n",
       "  <tbody>\n",
       "    <tr>\n",
       "      <th>0</th>\n",
       "      <td>[[213.5549473911214, 114.4022287301363], [220....</td>\n",
       "      <td>squat</td>\n",
       "    </tr>\n",
       "    <tr>\n",
       "      <th>1</th>\n",
       "      <td>[[215.76813005855823, 109.8157075735239], [223...</td>\n",
       "      <td>squat</td>\n",
       "    </tr>\n",
       "    <tr>\n",
       "      <th>2</th>\n",
       "      <td>[[215.51437338275872, 108.14348823563225], [22...</td>\n",
       "      <td>squat</td>\n",
       "    </tr>\n",
       "    <tr>\n",
       "      <th>3</th>\n",
       "      <td>[[215.42181938948602, 108.61974149136931], [22...</td>\n",
       "      <td>squat</td>\n",
       "    </tr>\n",
       "    <tr>\n",
       "      <th>4</th>\n",
       "      <td>[[214.98849040009625, 109.91136051265218], [22...</td>\n",
       "      <td>squat</td>\n",
       "    </tr>\n",
       "    <tr>\n",
       "      <th>...</th>\n",
       "      <td>...</td>\n",
       "      <td>...</td>\n",
       "    </tr>\n",
       "    <tr>\n",
       "      <th>1939</th>\n",
       "      <td>[[225.61210059326555, 156.4011553964595], [231...</td>\n",
       "      <td>ohp</td>\n",
       "    </tr>\n",
       "    <tr>\n",
       "      <th>1940</th>\n",
       "      <td>[[228.24726481447598, 156.79948989170256], [23...</td>\n",
       "      <td>ohp</td>\n",
       "    </tr>\n",
       "    <tr>\n",
       "      <th>1941</th>\n",
       "      <td>[[226.83350509516663, 156.38404180007268], [23...</td>\n",
       "      <td>ohp</td>\n",
       "    </tr>\n",
       "    <tr>\n",
       "      <th>1942</th>\n",
       "      <td>[[228.75453132105966, 155.5306222483423], [233...</td>\n",
       "      <td>ohp</td>\n",
       "    </tr>\n",
       "    <tr>\n",
       "      <th>1943</th>\n",
       "      <td>[[224.69243785199902, 159.06395337190054], [22...</td>\n",
       "      <td>ohp</td>\n",
       "    </tr>\n",
       "  </tbody>\n",
       "</table>\n",
       "<p>1944 rows × 2 columns</p>\n",
       "</div>"
      ],
      "text/plain": [
       "                                              keypoints  label\n",
       "0     [[213.5549473911214, 114.4022287301363], [220....  squat\n",
       "1     [[215.76813005855823, 109.8157075735239], [223...  squat\n",
       "2     [[215.51437338275872, 108.14348823563225], [22...  squat\n",
       "3     [[215.42181938948602, 108.61974149136931], [22...  squat\n",
       "4     [[214.98849040009625, 109.91136051265218], [22...  squat\n",
       "...                                                 ...    ...\n",
       "1939  [[225.61210059326555, 156.4011553964595], [231...    ohp\n",
       "1940  [[228.24726481447598, 156.79948989170256], [23...    ohp\n",
       "1941  [[226.83350509516663, 156.38404180007268], [23...    ohp\n",
       "1942  [[228.75453132105966, 155.5306222483423], [233...    ohp\n",
       "1943  [[224.69243785199902, 159.06395337190054], [22...    ohp\n",
       "\n",
       "[1944 rows x 2 columns]"
      ]
     },
     "execution_count": 3,
     "metadata": {},
     "output_type": "execute_result"
    }
   ],
   "source": [
    "test_dataset"
   ]
  },
  {
   "cell_type": "markdown",
   "metadata": {},
   "source": [
    "## Convert the keypoints into numpy arrays: This is needed because our keypoints come in strings from the csv file"
   ]
  },
  {
   "cell_type": "code",
   "execution_count": 4,
   "metadata": {},
   "outputs": [],
   "source": [
    "def convert_keypoints_to_np(row):\n",
    "    \"\"\"\n",
    "    For each row convert the keypounts string into a numpy array\n",
    "    \n",
    "    literal_eval, parses a string and trys to find a datatype it matches\n",
    "    It can convert a string(\"[1, 2]\") into -> array([1, 2])  \n",
    "    \"\"\"\n",
    "    arr_string = row[\"keypoints\"]\n",
    "    row[\"keypoints\"] = np.array(literal_eval(arr_string))\n",
    "    return row"
   ]
  },
  {
   "cell_type": "code",
   "execution_count": 5,
   "metadata": {},
   "outputs": [],
   "source": [
    "train_dataset = train_dataset.apply(convert_keypoints_to_np, axis=1)\n",
    "val_dataset = val_dataset.apply(convert_keypoints_to_np, axis=1)\n",
    "test_dataset = test_dataset.apply(convert_keypoints_to_np, axis=1)"
   ]
  },
  {
   "cell_type": "code",
   "execution_count": 7,
   "metadata": {
    "scrolled": true
   },
   "outputs": [
    {
     "data": {
      "text/html": [
       "<div>\n",
       "<style scoped>\n",
       "    .dataframe tbody tr th:only-of-type {\n",
       "        vertical-align: middle;\n",
       "    }\n",
       "\n",
       "    .dataframe tbody tr th {\n",
       "        vertical-align: top;\n",
       "    }\n",
       "\n",
       "    .dataframe thead th {\n",
       "        text-align: right;\n",
       "    }\n",
       "</style>\n",
       "<table border=\"1\" class=\"dataframe\">\n",
       "  <thead>\n",
       "    <tr style=\"text-align: right;\">\n",
       "      <th></th>\n",
       "      <th>keypoints</th>\n",
       "      <th>label</th>\n",
       "    </tr>\n",
       "  </thead>\n",
       "  <tbody>\n",
       "    <tr>\n",
       "      <th>0</th>\n",
       "      <td>[[209.44327277106208, 76.61273226668582], [216...</td>\n",
       "      <td>squat</td>\n",
       "    </tr>\n",
       "    <tr>\n",
       "      <th>1</th>\n",
       "      <td>[[209.5557964269436, 76.79756465919796], [217....</td>\n",
       "      <td>squat</td>\n",
       "    </tr>\n",
       "    <tr>\n",
       "      <th>2</th>\n",
       "      <td>[[210.0849627457141, 78.36333530608434], [217....</td>\n",
       "      <td>squat</td>\n",
       "    </tr>\n",
       "    <tr>\n",
       "      <th>3</th>\n",
       "      <td>[[210.44733122827606, 82.93815660377551], [217...</td>\n",
       "      <td>squat</td>\n",
       "    </tr>\n",
       "    <tr>\n",
       "      <th>4</th>\n",
       "      <td>[[209.90160150983974, 92.31494568489694], [216...</td>\n",
       "      <td>squat</td>\n",
       "    </tr>\n",
       "    <tr>\n",
       "      <th>...</th>\n",
       "      <td>...</td>\n",
       "      <td>...</td>\n",
       "    </tr>\n",
       "    <tr>\n",
       "      <th>9999</th>\n",
       "      <td>[[213.91176533054661, 251.58478068710613], [21...</td>\n",
       "      <td>squat</td>\n",
       "    </tr>\n",
       "    <tr>\n",
       "      <th>10000</th>\n",
       "      <td>[[214.95296256210105, 261.77459447150915], [21...</td>\n",
       "      <td>squat</td>\n",
       "    </tr>\n",
       "    <tr>\n",
       "      <th>10001</th>\n",
       "      <td>[[213.68906849882956, 269.0857215135856], [219...</td>\n",
       "      <td>squat</td>\n",
       "    </tr>\n",
       "    <tr>\n",
       "      <th>10002</th>\n",
       "      <td>[[212.8946201221363, 275.60901641845703], [219...</td>\n",
       "      <td>squat</td>\n",
       "    </tr>\n",
       "    <tr>\n",
       "      <th>10003</th>\n",
       "      <td>[[213.46484003840268, 279.8724174499512], [219...</td>\n",
       "      <td>squat</td>\n",
       "    </tr>\n",
       "  </tbody>\n",
       "</table>\n",
       "<p>10004 rows × 2 columns</p>\n",
       "</div>"
      ],
      "text/plain": [
       "                                               keypoints  label\n",
       "0      [[209.44327277106208, 76.61273226668582], [216...  squat\n",
       "1      [[209.5557964269436, 76.79756465919796], [217....  squat\n",
       "2      [[210.0849627457141, 78.36333530608434], [217....  squat\n",
       "3      [[210.44733122827606, 82.93815660377551], [217...  squat\n",
       "4      [[209.90160150983974, 92.31494568489694], [216...  squat\n",
       "...                                                  ...    ...\n",
       "9999   [[213.91176533054661, 251.58478068710613], [21...  squat\n",
       "10000  [[214.95296256210105, 261.77459447150915], [21...  squat\n",
       "10001  [[213.68906849882956, 269.0857215135856], [219...  squat\n",
       "10002  [[212.8946201221363, 275.60901641845703], [219...  squat\n",
       "10003  [[213.46484003840268, 279.8724174499512], [219...  squat\n",
       "\n",
       "[10004 rows x 2 columns]"
      ]
     },
     "execution_count": 7,
     "metadata": {},
     "output_type": "execute_result"
    }
   ],
   "source": [
    "train_dataset"
   ]
  },
  {
   "cell_type": "code",
   "execution_count": 13,
   "metadata": {},
   "outputs": [
    {
     "data": {
      "text/plain": [
       "nothing    732\n",
       "ohp        637\n",
       "squat      575\n",
       "Name: label, dtype: int64"
      ]
     },
     "execution_count": 13,
     "metadata": {},
     "output_type": "execute_result"
    }
   ],
   "source": [
    "test_dataset[\"label\"].value_counts()"
   ]
  },
  {
   "cell_type": "markdown",
   "metadata": {},
   "source": [
    "## Drop invalid keypoint rows"
   ]
  },
  {
   "cell_type": "code",
   "execution_count": 7,
   "metadata": {},
   "outputs": [],
   "source": [
    "def drop_invalid_keypoint_rows(dataset, dataset_type):\n",
    "    missing_count = 0\n",
    "    missing_indices = []\n",
    "    for i in range(0, len(dataset[\"keypoints\"])):\n",
    "        if str(dataset[\"keypoints\"][i].shape) != \"(17, 2)\":\n",
    "            missing_count += 1\n",
    "            missing_indices.append(i)\n",
    "\n",
    "    print(\"The {} data had {} rows with invalid keypoints\".format(dataset_type, missing_count))\n",
    "    dataset = dataset.drop(dataset.index[missing_indices]).reset_index(drop=True)\n",
    "    \n",
    "    return dataset"
   ]
  },
  {
   "cell_type": "code",
   "execution_count": 8,
   "metadata": {},
   "outputs": [
    {
     "name": "stdout",
     "output_type": "stream",
     "text": [
      "The Train data had 0 rows with invalid keypoints\n",
      "The Val data had 0 rows with invalid keypoints\n",
      "The Test data had 0 rows with invalid keypoints\n"
     ]
    }
   ],
   "source": [
    "# Drop any rows with keypoints that we couldn't retrieve for training data\n",
    "train_dataset = drop_invalid_keypoint_rows(train_dataset, \"Train\")\n",
    "\n",
    "# Drop any rows with keypoints that we couldn't retrieve for validation data\n",
    "test_dataset = drop_invalid_keypoint_rows(val_dataset, \"Val\")\n",
    "\n",
    "# Drop any rows with keypoints that we couldn't retrieve for test data\n",
    "test_dataset = drop_invalid_keypoint_rows(test_dataset, \"Test\")"
   ]
  },
  {
   "cell_type": "markdown",
   "metadata": {},
   "source": [
    "## Stack keypoints to create 3D Feature vectors and create Train and Test Splits"
   ]
  },
  {
   "cell_type": "code",
   "execution_count": 9,
   "metadata": {},
   "outputs": [],
   "source": [
    "def flatten_keypoints(row):\n",
    "    \"\"\"\n",
    "    Flatten takes a row that looks like this [[1, 2, 3], [4, 5, 6]] and \n",
    "    converts it into a row that looks like [1, 2, 3, 4, 5, 6].\n",
    "    \"\"\"\n",
    "    row[\"keypoints\"] = row[\"keypoints\"].flatten()\n",
    "    return row"
   ]
  },
  {
   "cell_type": "code",
   "execution_count": 10,
   "metadata": {},
   "outputs": [],
   "source": [
    "flat_train_dataset = train_dataset.apply(flatten_keypoints, axis=1)\n",
    "flat_val_dataset = val_dataset.apply(flatten_keypoints, axis=1)\n",
    "flat_test_dataset = test_dataset.apply(flatten_keypoints, axis=1)"
   ]
  },
  {
   "cell_type": "code",
   "execution_count": 11,
   "metadata": {},
   "outputs": [
    {
     "data": {
      "text/plain": [
       "(10004,)"
      ]
     },
     "execution_count": 11,
     "metadata": {},
     "output_type": "execute_result"
    }
   ],
   "source": [
    "flat_train_dataset[\"keypoints\"].shape"
   ]
  },
  {
   "cell_type": "code",
   "execution_count": 12,
   "metadata": {},
   "outputs": [],
   "source": [
    "def get_features_and_labels(df):\n",
    "    \"\"\"\n",
    "    np.vstack is needed to turn array(array()) into [[]]\n",
    "    \n",
    "    array([array([209.44327277,  76.61273227, 216.78748894,  70.06124498]),\n",
    "           array([209.55579643,  76.79756466, 217.86113192,  69.49467421])])\n",
    "    \n",
    "    to \n",
    "    \n",
    "    [[209.44327277,  76.61273227, 216.78748894,  70.06124498]\n",
    "     [209.55579643,  76.79756466, 217.86113192,  69.49467421]]\n",
    "     \n",
    "    return: \n",
    "        features: (samples, features) as numpy array\n",
    "        labels: (samples,) as numpy array\n",
    "    \"\"\"\n",
    "    features = np.vstack(df['keypoints'].to_numpy())\n",
    "    labels = df[\"label\"].to_numpy()\n",
    "    \n",
    "    return features, labels"
   ]
  },
  {
   "cell_type": "code",
   "execution_count": 13,
   "metadata": {},
   "outputs": [],
   "source": [
    "# Raw data all converted into numerical representations and cleaned correctly\n",
    "X_train, Y_train = get_features_and_labels(flat_train_dataset)\n",
    "X_val, Y_val = get_features_and_labels(flat_val_dataset)\n",
    "X_test, Y_test = get_features_and_labels(flat_test_dataset)"
   ]
  },
  {
   "cell_type": "code",
   "execution_count": 14,
   "metadata": {},
   "outputs": [
    {
     "data": {
      "text/plain": [
       "array(['squat', 'squat', 'squat', ..., 'squat', 'squat', 'squat'],\n",
       "      dtype=object)"
      ]
     },
     "execution_count": 14,
     "metadata": {},
     "output_type": "execute_result"
    }
   ],
   "source": [
    "Y_train"
   ]
  },
  {
   "cell_type": "markdown",
   "metadata": {},
   "source": [
    "## One hot encode the classes"
   ]
  },
  {
   "cell_type": "code",
   "execution_count": 16,
   "metadata": {},
   "outputs": [
    {
     "data": {
      "text/plain": [
       "[array(['nothing', 'ohp', 'squat'], dtype=object)]"
      ]
     },
     "execution_count": 16,
     "metadata": {},
     "output_type": "execute_result"
    }
   ],
   "source": [
    "ohe.categories_"
   ]
  },
  {
   "cell_type": "code",
   "execution_count": 15,
   "metadata": {},
   "outputs": [],
   "source": [
    "ohe = OneHotEncoder()\n",
    "ohe.fit(Y_train.reshape(-1, 1))\n",
    "\n",
    "Y_train = ohe.transform(Y_train.reshape(-1, 1)).toarray()\n",
    "Y_val = ohe.transform(Y_val.reshape(-1, 1)).toarray()\n",
    "Y_test = ohe.transform(Y_test.reshape(-1, 1)).toarray()"
   ]
  },
  {
   "cell_type": "code",
   "execution_count": 240,
   "metadata": {},
   "outputs": [
    {
     "data": {
      "text/plain": [
       "array([[0., 0., 1.],\n",
       "       [0., 0., 1.],\n",
       "       [0., 0., 1.],\n",
       "       ...,\n",
       "       [1., 0., 0.],\n",
       "       [1., 0., 0.],\n",
       "       [1., 0., 0.]])"
      ]
     },
     "execution_count": 240,
     "metadata": {},
     "output_type": "execute_result"
    }
   ],
   "source": [
    "Y_test"
   ]
  },
  {
   "cell_type": "code",
   "execution_count": 241,
   "metadata": {
    "scrolled": true
   },
   "outputs": [
    {
     "data": {
      "text/plain": [
       "array([0., 1., 0.])"
      ]
     },
     "execution_count": 241,
     "metadata": {},
     "output_type": "execute_result"
    }
   ],
   "source": [
    "Y_train[534]"
   ]
  },
  {
   "cell_type": "markdown",
   "metadata": {},
   "source": [
    "## Scale data"
   ]
  },
  {
   "cell_type": "code",
   "execution_count": 242,
   "metadata": {},
   "outputs": [],
   "source": [
    "# Scaled data\n",
    "scaler = StandardScaler()\n",
    "scaler.fit(X_train)\n",
    "X_train = scaler.transform(X_train) \n",
    "X_val = scaler.transform(X_val) \n",
    "X_test = scaler.transform(X_test) "
   ]
  },
  {
   "cell_type": "code",
   "execution_count": 247,
   "metadata": {},
   "outputs": [
    {
     "data": {
      "text/plain": [
       "['standard_scaler_jahnus_v1_0.save']"
      ]
     },
     "execution_count": 247,
     "metadata": {},
     "output_type": "execute_result"
    }
   ],
   "source": [
    "\"\"\"\n",
    "Save the scaler for use later\n",
    "\n",
    "Example of using this scaler later: \n",
    "\n",
    "scaler = load('./scaler.save')\n",
    "\n",
    "scaled = scaler.transform(features)\n",
    "\"\"\"\n",
    "dump(scaler, \"standard_scaler_jahnus_v1_0.save\") "
   ]
  },
  {
   "cell_type": "code",
   "execution_count": 48,
   "metadata": {},
   "outputs": [],
   "source": [
    "# X_train, Y_train = shuffle(X_train, Y_train, random_state=0)\n",
    "# X_val, Y_val = shuffle(X_val, Y_val, random_state=0)     "
   ]
  },
  {
   "cell_type": "code",
   "execution_count": 208,
   "metadata": {},
   "outputs": [
    {
     "data": {
      "text/plain": [
       "array([[-0.0559904 ,  1.61651652, -0.02906334, ...,  0.43316292,\n",
       "        -0.20663468,  0.44936038],\n",
       "       [-0.07853199,  1.38118257, -0.1070217 , ...,  0.4473561 ,\n",
       "        -0.21421845,  0.42748509],\n",
       "       [-0.01946228,  1.17175209, -0.01062501, ...,  0.44075307,\n",
       "        -0.22784801,  0.37307237],\n",
       "       ...,\n",
       "       [-0.30957019,  2.05410219, -0.32629767, ..., -0.44485344,\n",
       "        -0.11793176, -0.21506936],\n",
       "       [-0.35486981,  2.33601705, -0.36870274, ..., -0.24876602,\n",
       "        -0.06818239, -0.25171653],\n",
       "       [-0.40163649,  2.42785606, -0.4236616 , ..., -0.14116886,\n",
       "        -0.004074  , -0.27152942]])"
      ]
     },
     "execution_count": 208,
     "metadata": {},
     "output_type": "execute_result"
    }
   ],
   "source": [
    "X_test"
   ]
  },
  {
   "cell_type": "markdown",
   "metadata": {},
   "source": [
    "# Define model"
   ]
  },
  {
   "cell_type": "markdown",
   "metadata": {},
   "source": [
    "## Train neural network on dataset"
   ]
  },
  {
   "cell_type": "code",
   "execution_count": 209,
   "metadata": {},
   "outputs": [],
   "source": [
    "# Model imports\n",
    "from keras.models import Sequential\n",
    "from keras.layers import Dense, Dropout"
   ]
  },
  {
   "cell_type": "code",
   "execution_count": 210,
   "metadata": {},
   "outputs": [],
   "source": [
    "# Imports\n",
    "def build_model():\n",
    "    # Neural network\n",
    "    model = Sequential()\n",
    "    model.add(Dense(6, input_dim=34, activation='relu'))\n",
    "    model.add(Dense(3, activation='softmax'))\n",
    "    \n",
    "    model.compile(loss='categorical_crossentropy', optimizer='adam', metrics=['acc'])\n",
    "    \n",
    "    return model"
   ]
  },
  {
   "cell_type": "code",
   "execution_count": 216,
   "metadata": {},
   "outputs": [
    {
     "name": "stdout",
     "output_type": "stream",
     "text": [
      "Train on 10004 samples, validate on 3229 samples\n",
      "Epoch 1/50\n",
      "10004/10004 [==============================] - 1s 58us/step - loss: 0.9707 - acc: 0.5682 - val_loss: 0.7691 - val_acc: 0.7643\n",
      "Epoch 2/50\n",
      "10004/10004 [==============================] - 1s 84us/step - loss: 0.6039 - acc: 0.7818 - val_loss: 0.6429 - val_acc: 0.7612\n",
      "Epoch 3/50\n",
      "10004/10004 [==============================] - 0s 45us/step - loss: 0.4496 - acc: 0.8596 - val_loss: 0.5720 - val_acc: 0.8272\n",
      "Epoch 4/50\n",
      "10004/10004 [==============================] - 0s 40us/step - loss: 0.3652 - acc: 0.9043 - val_loss: 0.5225 - val_acc: 0.8572\n",
      "Epoch 5/50\n",
      "10004/10004 [==============================] - 1s 59us/step - loss: 0.3039 - acc: 0.9228 - val_loss: 0.4706 - val_acc: 0.8743\n",
      "Epoch 6/50\n",
      "10004/10004 [==============================] - 0s 49us/step - loss: 0.2561 - acc: 0.9453 - val_loss: 0.4059 - val_acc: 0.9381\n",
      "Epoch 7/50\n",
      "10004/10004 [==============================] - ETA: 0s - loss: 0.2216 - acc: 0.952 - 1s 57us/step - loss: 0.2185 - acc: 0.9545 - val_loss: 0.3749 - val_acc: 0.9430\n",
      "Epoch 8/50\n",
      "10004/10004 [==============================] - 0s 42us/step - loss: 0.1885 - acc: 0.9594 - val_loss: 0.3369 - val_acc: 0.9532\n",
      "Epoch 9/50\n",
      "10004/10004 [==============================] - 0s 47us/step - loss: 0.1652 - acc: 0.9612 - val_loss: 0.3078 - val_acc: 0.9628\n",
      "Epoch 10/50\n",
      "10004/10004 [==============================] - 0s 49us/step - loss: 0.1467 - acc: 0.9622 - val_loss: 0.2752 - val_acc: 0.9672\n",
      "Epoch 11/50\n",
      "10004/10004 [==============================] - 1s 68us/step - loss: 0.1296 - acc: 0.9724 - val_loss: 0.2625 - val_acc: 0.9681\n",
      "Epoch 12/50\n",
      "10004/10004 [==============================] - 1s 61us/step - loss: 0.1153 - acc: 0.9754 - val_loss: 0.2447 - val_acc: 0.9678\n",
      "Epoch 13/50\n",
      "10004/10004 [==============================] - 0s 40us/step - loss: 0.1043 - acc: 0.9757 - val_loss: 0.2370 - val_acc: 0.9690\n",
      "Epoch 14/50\n",
      "10004/10004 [==============================] - 1s 70us/step - loss: 0.0950 - acc: 0.9764 - val_loss: 0.2286 - val_acc: 0.9690\n",
      "Epoch 15/50\n",
      "10004/10004 [==============================] - 1s 56us/step - loss: 0.0874 - acc: 0.9798 - val_loss: 0.2199 - val_acc: 0.9697\n",
      "Epoch 16/50\n",
      "10004/10004 [==============================] - 0s 45us/step - loss: 0.0808 - acc: 0.9802 - val_loss: 0.2141 - val_acc: 0.9690\n",
      "Epoch 17/50\n",
      "10004/10004 [==============================] - 1s 63us/step - loss: 0.0753 - acc: 0.9831 - val_loss: 0.2019 - val_acc: 0.9690\n",
      "Epoch 18/50\n",
      "10004/10004 [==============================] - 1s 50us/step - loss: 0.0699 - acc: 0.9837 - val_loss: 0.2091 - val_acc: 0.9659\n",
      "Epoch 19/50\n",
      "10004/10004 [==============================] - 1s 54us/step - loss: 0.0659 - acc: 0.9847 - val_loss: 0.2137 - val_acc: 0.9666\n",
      "Epoch 20/50\n",
      "10004/10004 [==============================] - 1s 50us/step - loss: 0.0600 - acc: 0.9880 - val_loss: 0.1921 - val_acc: 0.9715\n",
      "Epoch 21/50\n",
      "10004/10004 [==============================] - 1s 65us/step - loss: 0.0551 - acc: 0.9895 - val_loss: 0.1809 - val_acc: 0.9734\n",
      "Epoch 22/50\n",
      "10004/10004 [==============================] - 1s 53us/step - loss: 0.0526 - acc: 0.9898 - val_loss: 0.1794 - val_acc: 0.9731\n",
      "Epoch 23/50\n",
      "10004/10004 [==============================] - 1s 55us/step - loss: 0.0494 - acc: 0.9905 - val_loss: 0.1664 - val_acc: 0.9734\n",
      "Epoch 24/50\n",
      "10004/10004 [==============================] - 1s 51us/step - loss: 0.0473 - acc: 0.9905 - val_loss: 0.1634 - val_acc: 0.9740\n",
      "Epoch 25/50\n",
      "10004/10004 [==============================] - 1s 85us/step - loss: 0.0451 - acc: 0.9906 - val_loss: 0.1642 - val_acc: 0.9802\n",
      "Epoch 26/50\n",
      "10004/10004 [==============================] - 1s 95us/step - loss: 0.0436 - acc: 0.9913 - val_loss: 0.1642 - val_acc: 0.9783\n",
      "Epoch 27/50\n",
      "10004/10004 [==============================] - 1s 61us/step - loss: 0.0419 - acc: 0.9911 - val_loss: 0.1672 - val_acc: 0.9762\n",
      "Epoch 28/50\n",
      "10004/10004 [==============================] - 1s 51us/step - loss: 0.0402 - acc: 0.9914 - val_loss: 0.1467 - val_acc: 0.9799\n",
      "Epoch 29/50\n",
      "10004/10004 [==============================] - 1s 73us/step - loss: 0.0393 - acc: 0.9915 - val_loss: 0.1421 - val_acc: 0.9765\n",
      "Epoch 30/50\n",
      "10004/10004 [==============================] - 1s 57us/step - loss: 0.0382 - acc: 0.9920 - val_loss: 0.1423 - val_acc: 0.9802\n",
      "Epoch 31/50\n",
      "10004/10004 [==============================] - 1s 50us/step - loss: 0.0368 - acc: 0.9926 - val_loss: 0.1451 - val_acc: 0.9789\n",
      "Epoch 32/50\n",
      "10004/10004 [==============================] - 0s 50us/step - loss: 0.0357 - acc: 0.9925 - val_loss: 0.1338 - val_acc: 0.9799\n",
      "Epoch 33/50\n",
      "10004/10004 [==============================] - 1s 75us/step - loss: 0.0346 - acc: 0.9924 - val_loss: 0.1387 - val_acc: 0.9814\n",
      "Epoch 34/50\n",
      "10004/10004 [==============================] - 0s 46us/step - loss: 0.0339 - acc: 0.9926 - val_loss: 0.1336 - val_acc: 0.9830\n",
      "Epoch 35/50\n",
      "10004/10004 [==============================] - 1s 54us/step - loss: 0.0329 - acc: 0.9925 - val_loss: 0.1237 - val_acc: 0.9833\n",
      "Epoch 36/50\n",
      "10004/10004 [==============================] - 1s 51us/step - loss: 0.0320 - acc: 0.9930 - val_loss: 0.1155 - val_acc: 0.9851\n",
      "Epoch 37/50\n",
      "10004/10004 [==============================] - 1s 83us/step - loss: 0.0310 - acc: 0.9930 - val_loss: 0.1097 - val_acc: 0.9839\n",
      "Epoch 38/50\n",
      "10004/10004 [==============================] - 1s 81us/step - loss: 0.0304 - acc: 0.9932 - val_loss: 0.1185 - val_acc: 0.9827\n",
      "Epoch 39/50\n",
      "10004/10004 [==============================] - 1s 60us/step - loss: 0.0301 - acc: 0.9932 - val_loss: 0.1164 - val_acc: 0.9864\n",
      "Epoch 40/50\n",
      "10004/10004 [==============================] - 1s 79us/step - loss: 0.0293 - acc: 0.9934 - val_loss: 0.1251 - val_acc: 0.9861\n",
      "Epoch 41/50\n",
      "10004/10004 [==============================] - 0s 42us/step - loss: 0.0287 - acc: 0.9933 - val_loss: 0.1096 - val_acc: 0.9864\n",
      "Epoch 42/50\n",
      "10004/10004 [==============================] - 0s 42us/step - loss: 0.0282 - acc: 0.9937 - val_loss: 0.1129 - val_acc: 0.9864\n",
      "Epoch 43/50\n",
      "10004/10004 [==============================] - 0s 42us/step - loss: 0.0276 - acc: 0.9937 - val_loss: 0.1088 - val_acc: 0.9864\n",
      "Epoch 44/50\n",
      "10004/10004 [==============================] - 0s 47us/step - loss: 0.0272 - acc: 0.9936 - val_loss: 0.1156 - val_acc: 0.9858\n",
      "Epoch 45/50\n",
      "10004/10004 [==============================] - 0s 40us/step - loss: 0.0270 - acc: 0.9938 - val_loss: 0.1069 - val_acc: 0.9854\n",
      "Epoch 46/50\n",
      "10004/10004 [==============================] - 0s 39us/step - loss: 0.0264 - acc: 0.9939 - val_loss: 0.1048 - val_acc: 0.9870\n",
      "Epoch 47/50\n",
      "10004/10004 [==============================] - 1s 68us/step - loss: 0.0258 - acc: 0.9940 - val_loss: 0.1025 - val_acc: 0.9873\n",
      "Epoch 48/50\n",
      "10004/10004 [==============================] - 1s 75us/step - loss: 0.0255 - acc: 0.9944 - val_loss: 0.1128 - val_acc: 0.9864\n",
      "Epoch 49/50\n",
      "10004/10004 [==============================] - 1s 58us/step - loss: 0.0251 - acc: 0.9944 - val_loss: 0.1048 - val_acc: 0.9876\n",
      "Epoch 50/50\n",
      "10004/10004 [==============================] - 1s 56us/step - loss: 0.0256 - acc: 0.9943 - val_loss: 0.1077 - val_acc: 0.9870\n"
     ]
    }
   ],
   "source": [
    "model = build_model()\n",
    "history = model.fit(X_train, Y_train, epochs=50, batch_size=64, validation_data=(X_val, Y_val), shuffle=True)"
   ]
  },
  {
   "cell_type": "code",
   "execution_count": 222,
   "metadata": {
    "scrolled": true
   },
   "outputs": [
    {
     "data": {
      "image/png": "[encoded data removed]",
      "text/plain": [
       "<Figure size 432x288 with 1 Axes>"
      ]
     },
     "metadata": {
      "needs_background": "light"
     },
     "output_type": "display_data"
    },
    {
     "data": {
      "image/png": "[encoded data removed]",
      "text/plain": [
       "<Figure size 432x288 with 1 Axes>"
      ]
     },
     "metadata": {
      "needs_background": "light"
     },
     "output_type": "display_data"
    }
   ],
   "source": [
    "acc = history.history['acc']\n",
    "val_acc = history.history['val_acc']\n",
    "loss = history.history['loss']\n",
    "val_loss = history.history['val_loss']\n",
    "\n",
    "epochs = range(1, len(acc) + 1)\n",
    "\n",
    "plt.plot(epochs, acc, 'bo', label='Training acc')\n",
    "plt.plot(epochs, val_acc, 'b', label='Validation acc')\n",
    "plt.title('Training and validation Accuracy')\n",
    "plt.legend()\n",
    "\n",
    "plt.figure()\n",
    "\n",
    "\n",
    "plt.plot(epochs, loss, 'bo', label='Training loss')\n",
    "plt.plot(epochs, val_loss, 'b', label='Validation loss')\n",
    "plt.title('Training and validation loss')\n",
    "plt.legend()\n",
    "plt.show()"
   ]
  },
  {
   "cell_type": "markdown",
   "metadata": {},
   "source": [
    "## Test model on test set"
   ]
  },
  {
   "cell_type": "code",
   "execution_count": 223,
   "metadata": {},
   "outputs": [],
   "source": [
    "def evaluate_set(X_labels, Y_labels):\n",
    "    # Arg Maxed to obtain labels\n",
    "    # Predictions\n",
    "    X_labels = model.predict(X_labels)\n",
    "    X_labels = np.argmax(X_labels, axis=1)\n",
    "    \n",
    "    # Ground truth\n",
    "    Y_labels = np.argmax(Y_labels, axis=1)\n",
    "    \n",
    "    acc_score = accuracy_score(X_labels, Y_labels)\n",
    "    print(\"The accuracy of this distribution is: {}\".format(acc_score))"
   ]
  },
  {
   "cell_type": "code",
   "execution_count": 225,
   "metadata": {
    "scrolled": true
   },
   "outputs": [
    {
     "name": "stdout",
     "output_type": "stream",
     "text": [
      "The accuracy of this distribution is: 0.9869928770517188\n"
     ]
    }
   ],
   "source": [
    "evaluate_set(X_test, Y_test)"
   ]
  },
  {
   "cell_type": "markdown",
   "metadata": {},
   "source": [
    "## Save model"
   ]
  },
  {
   "cell_type": "code",
   "execution_count": 221,
   "metadata": {},
   "outputs": [],
   "source": [
    "model.save('jahnus_v1_0.h5')  # creates a HDF5 file 'my_model.h5'"
   ]
  }
 ],
 "metadata": {
  "kernelspec": {
   "display_name": "Python 3",
   "language": "python",
   "name": "python3"
  },
  "language_info": {
   "codemirror_mode": {
    "name": "ipython",
    "version": 3
   },
   "file_extension": ".py",
   "mimetype": "text/x-python",
   "name": "python",
   "nbconvert_exporter": "python",
   "pygments_lexer": "ipython3",
   "version": "3.6.8"
  }
 },
 "nbformat": 4,
 "nbformat_minor": 2
}
